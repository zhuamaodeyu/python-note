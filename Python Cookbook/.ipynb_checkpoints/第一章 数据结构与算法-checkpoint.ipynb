{
 "cells": [
  {
   "cell_type": "markdown",
   "metadata": {},
   "source": [
    "## 解压序列赋值给多个变量\n"
   ]
  },
  {
   "cell_type": "code",
   "execution_count": 2,
   "metadata": {},
   "outputs": [],
   "source": [
    "p = (4, 5) \n",
    "x, y = p"
   ]
  },
  {
   "cell_type": "code",
   "execution_count": 4,
   "metadata": {},
   "outputs": [
    {
     "name": "stdout",
     "output_type": "stream",
     "text": [
      "4\n",
      "5\n"
     ]
    }
   ],
   "source": [
    "print(x)\n",
    "print(y)"
   ]
  },
  {
   "cell_type": "code",
   "execution_count": 5,
   "metadata": {},
   "outputs": [
    {
     "name": "stdout",
     "output_type": "stream",
     "text": [
      "(2019, 12, 20)\n"
     ]
    }
   ],
   "source": [
    "data = ['测试',50,100,(2019,12,20)]\n",
    "name,shares,price,date = data\n",
    "print(date)"
   ]
  },
  {
   "cell_type": "code",
   "execution_count": 7,
   "metadata": {},
   "outputs": [
    {
     "name": "stdout",
     "output_type": "stream",
     "text": [
      "20\n"
     ]
    }
   ],
   "source": [
    "name,shares,price,(year, mon,day) = data\n",
    "print(day)"
   ]
  },
  {
   "cell_type": "markdown",
   "metadata": {},
   "source": [
    "通过此种方式，可以将任意序列，赋值解压到变量中 。 __注意：变量个数和序列元素必须一一对应，不能少于序列元素，否则会产生异常__"
   ]
  },
  {
   "cell_type": "markdown",
   "metadata": {},
   "source": [
    "这种解压赋值操作，可以用在任意可迭代对象上，包括  `数组`，`元祖`,`字典`,`字符串`,`文件对象`,`迭代器`,`生成器`"
   ]
  },
  {
   "cell_type": "markdown",
   "metadata": {},
   "source": [
    "### 2. 解压部分"
   ]
  },
  {
   "cell_type": "markdown",
   "metadata": {},
   "source": [
    "通过Python的星号(*) 表示法来解决这个问题"
   ]
  },
  {
   "cell_type": "code",
   "execution_count": 9,
   "metadata": {},
   "outputs": [
    {
     "name": "stdout",
     "output_type": "stream",
     "text": [
      "['333-333-333', '333-444-444']\n",
      "['Dave', 'playtomandjerry@gmail.com']\n",
      "333-333-333\n"
     ]
    }
   ],
   "source": [
    "record = ('Dave','playtomandjerry@gmail.com','333-333-333','333-444-444')\n",
    "name,email,*phone_numbers = record\n",
    "*tra,phone_number1,phone_number2 = record\n",
    "print(phone_numbers)\n",
    "print(tra)\n",
    "print(phone_number1)"
   ]
  },
  {
   "cell_type": "markdown",
   "metadata": {},
   "source": [
    "注意以上的示例： 其通过星号表示法，将可能不重要的部分数据解压到一个变量中。采用数组的形式存储"
   ]
  },
  {
   "cell_type": "code",
   "execution_count": 13,
   "metadata": {},
   "outputs": [
    {
     "name": "stdout",
     "output_type": "stream",
     "text": [
      "foo 1 2\n",
      "bar 34\n",
      "foo 12 56\n"
     ]
    }
   ],
   "source": [
    "records = [('foo',1,2),('bar',34),('foo',12,56)] \n",
    "def do_foo(x,y): \n",
    "    print('foo',x,y)  \n",
    "\n",
    "def do_bar(s):\n",
    "    print('bar',s)  \n",
    "\n",
    "for tag, *args in records : \n",
    "    if tag == 'foo':\n",
    "        do_foo(*args) \n",
    "    elif tag == 'bar':\n",
    "        do_bar(*args)"
   ]
  },
  {
   "cell_type": "markdown",
   "metadata": {},
   "source": [
    "以上是针对不定长度的可迭代数据进行操作"
   ]
  },
  {
   "cell_type": "code",
   "execution_count": 14,
   "metadata": {},
   "outputs": [
    {
     "name": "stdout",
     "output_type": "stream",
     "text": [
      "nobody\n",
      "* -2 -2 Unprivileged User\n"
     ]
    }
   ],
   "source": [
    "line ='nobody:*:-2:-2:Unprivileged User:/var/empty:/usr/bin/false'\n",
    "uname,*fields,homedir,sh = line.split(':')\n",
    "print(uname) \n",
    "print(*fields)"
   ]
  },
  {
   "cell_type": "markdown",
   "metadata": {},
   "source": [
    "当有时候解压后想丢弃部分数据，可以采用以下方式实现"
   ]
  },
  {
   "cell_type": "code",
   "execution_count": 16,
   "metadata": {},
   "outputs": [
    {
     "name": "stdout",
     "output_type": "stream",
     "text": [
      "2012\n"
     ]
    }
   ],
   "source": [
    "record = ('name',50,123.3,(12,18,2012))  \n",
    "name,*_,(*_,year) = record \n",
    "print(year)\n",
    "#此处只需要了name，year ， 可以采用以上方式，将其他不需要的数据解压到 —— 变量中丢弃"
   ]
  },
  {
   "cell_type": "markdown",
   "metadata": {},
   "source": [
    "### 保留最后n 个元素"
   ]
  },
  {
   "cell_type": "markdown",
   "metadata": {},
   "source": [
    "在迭代操作或者其他操作时， 如何只保留最后有限的几个元素的历史记录？？"
   ]
  },
  {
   "cell_type": "markdown",
   "metadata": {},
   "source": [
    "方案： __采用 collections.deque 包来解决此问题__"
   ]
  },
  {
   "cell_type": "code",
   "execution_count": null,
   "metadata": {},
   "outputs": [],
   "source": [
    "from collections import deque  \n",
    "\n",
    "def search(lines, pattern, history = 5):\n",
    "    previous_lines = deque(maxlen=history) \n",
    "    for li in lines:\n",
    "        if pattern in li:\n",
    "            yield li , previous_lines\n",
    "        previous_line.append(li) \n",
    "\n",
    "\n",
    "if __name__ == '__main__':\n",
    "    with open(r'../../cookbook/somefile.txt') as f: \n",
    "        for line, prevlines in search(f, 'python',5):\n",
    "            for pline in prevlines:\n",
    "                print(pline, end='')\n",
    "            print(line, end='')\n",
    "            print('-' * 20)"
   ]
  }
 ],
 "metadata": {
  "kernelspec": {
   "display_name": "Python 3",
   "language": "python",
   "name": "python3"
  },
  "language_info": {
   "codemirror_mode": {
    "name": "ipython",
    "version": 3
   },
   "file_extension": ".py",
   "mimetype": "text/x-python",
   "name": "python",
   "nbconvert_exporter": "python",
   "pygments_lexer": "ipython3",
   "version": "3.6.4"
  },
  "toc": {
   "base_numbering": 1,
   "nav_menu": {},
   "number_sections": true,
   "sideBar": true,
   "skip_h1_title": false,
   "title_cell": "Table of Contents",
   "title_sidebar": "Contents",
   "toc_cell": false,
   "toc_position": {},
   "toc_section_display": true,
   "toc_window_display": false
  }
 },
 "nbformat": 4,
 "nbformat_minor": 2
}
